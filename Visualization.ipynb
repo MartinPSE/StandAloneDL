{
  "nbformat": 4,
  "nbformat_minor": 0,
  "metadata": {
    "colab": {
      "name": "Visualization.ipynb",
      "provenance": [],
      "collapsed_sections": [],
      "machine_shape": "hm",
      "authorship_tag": "ABX9TyNIIQgVSBKUL5cpeEAab+/e",
      "include_colab_link": true
    },
    "kernelspec": {
      "name": "python3",
      "display_name": "Python 3"
    },
    "language_info": {
      "name": "python"
    },
    "accelerator": "GPU",
    "widgets": {
      "application/vnd.jupyter.widget-state+json": {
        "7ca1bc13a2e54f6bad94680aac8bd40f": {
          "model_module": "@jupyter-widgets/controls",
          "model_name": "HBoxModel",
          "model_module_version": "1.5.0",
          "state": {
            "_view_name": "HBoxView",
            "_dom_classes": [],
            "_model_name": "HBoxModel",
            "_view_module": "@jupyter-widgets/controls",
            "_model_module_version": "1.5.0",
            "_view_count": null,
            "_view_module_version": "1.5.0",
            "box_style": "",
            "layout": "IPY_MODEL_4c5fbe0607ba464fbd1c912aef6f785f",
            "_model_module": "@jupyter-widgets/controls",
            "children": [
              "IPY_MODEL_cb8097216cd64fcb8956267285b3baa2",
              "IPY_MODEL_b40ec6982ed3432fb7422c006a71bdbf",
              "IPY_MODEL_83effacbc2324b70988038f095a207a3"
            ]
          }
        },
        "4c5fbe0607ba464fbd1c912aef6f785f": {
          "model_module": "@jupyter-widgets/base",
          "model_name": "LayoutModel",
          "model_module_version": "1.2.0",
          "state": {
            "_view_name": "LayoutView",
            "grid_template_rows": null,
            "right": null,
            "justify_content": null,
            "_view_module": "@jupyter-widgets/base",
            "overflow": null,
            "_model_module_version": "1.2.0",
            "_view_count": null,
            "flex_flow": null,
            "width": null,
            "min_width": null,
            "border": null,
            "align_items": null,
            "bottom": null,
            "_model_module": "@jupyter-widgets/base",
            "top": null,
            "grid_column": null,
            "overflow_y": null,
            "overflow_x": null,
            "grid_auto_flow": null,
            "grid_area": null,
            "grid_template_columns": null,
            "flex": null,
            "_model_name": "LayoutModel",
            "justify_items": null,
            "grid_row": null,
            "max_height": null,
            "align_content": null,
            "visibility": null,
            "align_self": null,
            "height": null,
            "min_height": null,
            "padding": null,
            "grid_auto_rows": null,
            "grid_gap": null,
            "max_width": null,
            "order": null,
            "_view_module_version": "1.2.0",
            "grid_template_areas": null,
            "object_position": null,
            "object_fit": null,
            "grid_auto_columns": null,
            "margin": null,
            "display": null,
            "left": null
          }
        },
        "cb8097216cd64fcb8956267285b3baa2": {
          "model_module": "@jupyter-widgets/controls",
          "model_name": "HTMLModel",
          "model_module_version": "1.5.0",
          "state": {
            "_view_name": "HTMLView",
            "style": "IPY_MODEL_baedf3d7080b4716ab524dcbe8612585",
            "_dom_classes": [],
            "description": "",
            "_model_name": "HTMLModel",
            "placeholder": "​",
            "_view_module": "@jupyter-widgets/controls",
            "_model_module_version": "1.5.0",
            "value": "",
            "_view_count": null,
            "_view_module_version": "1.5.0",
            "description_tooltip": null,
            "_model_module": "@jupyter-widgets/controls",
            "layout": "IPY_MODEL_234e402363314d85aff315d72398df67"
          }
        },
        "b40ec6982ed3432fb7422c006a71bdbf": {
          "model_module": "@jupyter-widgets/controls",
          "model_name": "FloatProgressModel",
          "model_module_version": "1.5.0",
          "state": {
            "_view_name": "ProgressView",
            "style": "IPY_MODEL_43a68408c6c14550a5990505a612b61b",
            "_dom_classes": [],
            "description": "",
            "_model_name": "FloatProgressModel",
            "bar_style": "success",
            "max": 170498071,
            "_view_module": "@jupyter-widgets/controls",
            "_model_module_version": "1.5.0",
            "value": 170498071,
            "_view_count": null,
            "_view_module_version": "1.5.0",
            "orientation": "horizontal",
            "min": 0,
            "description_tooltip": null,
            "_model_module": "@jupyter-widgets/controls",
            "layout": "IPY_MODEL_0dd1bb9459bf4b3793626914ee94140f"
          }
        },
        "83effacbc2324b70988038f095a207a3": {
          "model_module": "@jupyter-widgets/controls",
          "model_name": "HTMLModel",
          "model_module_version": "1.5.0",
          "state": {
            "_view_name": "HTMLView",
            "style": "IPY_MODEL_dbe22ac309354a6ca114c1642b04a1d9",
            "_dom_classes": [],
            "description": "",
            "_model_name": "HTMLModel",
            "placeholder": "​",
            "_view_module": "@jupyter-widgets/controls",
            "_model_module_version": "1.5.0",
            "value": " 170499072/? [00:03&lt;00:00, 57834302.57it/s]",
            "_view_count": null,
            "_view_module_version": "1.5.0",
            "description_tooltip": null,
            "_model_module": "@jupyter-widgets/controls",
            "layout": "IPY_MODEL_374a2ac178824c05813d8fd05a858b16"
          }
        },
        "baedf3d7080b4716ab524dcbe8612585": {
          "model_module": "@jupyter-widgets/controls",
          "model_name": "DescriptionStyleModel",
          "model_module_version": "1.5.0",
          "state": {
            "_view_name": "StyleView",
            "_model_name": "DescriptionStyleModel",
            "description_width": "",
            "_view_module": "@jupyter-widgets/base",
            "_model_module_version": "1.5.0",
            "_view_count": null,
            "_view_module_version": "1.2.0",
            "_model_module": "@jupyter-widgets/controls"
          }
        },
        "234e402363314d85aff315d72398df67": {
          "model_module": "@jupyter-widgets/base",
          "model_name": "LayoutModel",
          "model_module_version": "1.2.0",
          "state": {
            "_view_name": "LayoutView",
            "grid_template_rows": null,
            "right": null,
            "justify_content": null,
            "_view_module": "@jupyter-widgets/base",
            "overflow": null,
            "_model_module_version": "1.2.0",
            "_view_count": null,
            "flex_flow": null,
            "width": null,
            "min_width": null,
            "border": null,
            "align_items": null,
            "bottom": null,
            "_model_module": "@jupyter-widgets/base",
            "top": null,
            "grid_column": null,
            "overflow_y": null,
            "overflow_x": null,
            "grid_auto_flow": null,
            "grid_area": null,
            "grid_template_columns": null,
            "flex": null,
            "_model_name": "LayoutModel",
            "justify_items": null,
            "grid_row": null,
            "max_height": null,
            "align_content": null,
            "visibility": null,
            "align_self": null,
            "height": null,
            "min_height": null,
            "padding": null,
            "grid_auto_rows": null,
            "grid_gap": null,
            "max_width": null,
            "order": null,
            "_view_module_version": "1.2.0",
            "grid_template_areas": null,
            "object_position": null,
            "object_fit": null,
            "grid_auto_columns": null,
            "margin": null,
            "display": null,
            "left": null
          }
        },
        "43a68408c6c14550a5990505a612b61b": {
          "model_module": "@jupyter-widgets/controls",
          "model_name": "ProgressStyleModel",
          "model_module_version": "1.5.0",
          "state": {
            "_view_name": "StyleView",
            "_model_name": "ProgressStyleModel",
            "description_width": "",
            "_view_module": "@jupyter-widgets/base",
            "_model_module_version": "1.5.0",
            "_view_count": null,
            "_view_module_version": "1.2.0",
            "bar_color": null,
            "_model_module": "@jupyter-widgets/controls"
          }
        },
        "0dd1bb9459bf4b3793626914ee94140f": {
          "model_module": "@jupyter-widgets/base",
          "model_name": "LayoutModel",
          "model_module_version": "1.2.0",
          "state": {
            "_view_name": "LayoutView",
            "grid_template_rows": null,
            "right": null,
            "justify_content": null,
            "_view_module": "@jupyter-widgets/base",
            "overflow": null,
            "_model_module_version": "1.2.0",
            "_view_count": null,
            "flex_flow": null,
            "width": null,
            "min_width": null,
            "border": null,
            "align_items": null,
            "bottom": null,
            "_model_module": "@jupyter-widgets/base",
            "top": null,
            "grid_column": null,
            "overflow_y": null,
            "overflow_x": null,
            "grid_auto_flow": null,
            "grid_area": null,
            "grid_template_columns": null,
            "flex": null,
            "_model_name": "LayoutModel",
            "justify_items": null,
            "grid_row": null,
            "max_height": null,
            "align_content": null,
            "visibility": null,
            "align_self": null,
            "height": null,
            "min_height": null,
            "padding": null,
            "grid_auto_rows": null,
            "grid_gap": null,
            "max_width": null,
            "order": null,
            "_view_module_version": "1.2.0",
            "grid_template_areas": null,
            "object_position": null,
            "object_fit": null,
            "grid_auto_columns": null,
            "margin": null,
            "display": null,
            "left": null
          }
        },
        "dbe22ac309354a6ca114c1642b04a1d9": {
          "model_module": "@jupyter-widgets/controls",
          "model_name": "DescriptionStyleModel",
          "model_module_version": "1.5.0",
          "state": {
            "_view_name": "StyleView",
            "_model_name": "DescriptionStyleModel",
            "description_width": "",
            "_view_module": "@jupyter-widgets/base",
            "_model_module_version": "1.5.0",
            "_view_count": null,
            "_view_module_version": "1.2.0",
            "_model_module": "@jupyter-widgets/controls"
          }
        },
        "374a2ac178824c05813d8fd05a858b16": {
          "model_module": "@jupyter-widgets/base",
          "model_name": "LayoutModel",
          "model_module_version": "1.2.0",
          "state": {
            "_view_name": "LayoutView",
            "grid_template_rows": null,
            "right": null,
            "justify_content": null,
            "_view_module": "@jupyter-widgets/base",
            "overflow": null,
            "_model_module_version": "1.2.0",
            "_view_count": null,
            "flex_flow": null,
            "width": null,
            "min_width": null,
            "border": null,
            "align_items": null,
            "bottom": null,
            "_model_module": "@jupyter-widgets/base",
            "top": null,
            "grid_column": null,
            "overflow_y": null,
            "overflow_x": null,
            "grid_auto_flow": null,
            "grid_area": null,
            "grid_template_columns": null,
            "flex": null,
            "_model_name": "LayoutModel",
            "justify_items": null,
            "grid_row": null,
            "max_height": null,
            "align_content": null,
            "visibility": null,
            "align_self": null,
            "height": null,
            "min_height": null,
            "padding": null,
            "grid_auto_rows": null,
            "grid_gap": null,
            "max_width": null,
            "order": null,
            "_view_module_version": "1.2.0",
            "grid_template_areas": null,
            "object_position": null,
            "object_fit": null,
            "grid_auto_columns": null,
            "margin": null,
            "display": null,
            "left": null
          }
        }
      }
    }
  },
  "cells": [
    {
      "cell_type": "markdown",
      "metadata": {
        "id": "view-in-github",
        "colab_type": "text"
      },
      "source": [
        "<a href=\"https://colab.research.google.com/github/MartinPSE/StandAloneDL/blob/master/Visualization.ipynb\" target=\"_parent\"><img src=\"https://colab.research.google.com/assets/colab-badge.svg\" alt=\"Open In Colab\"/></a>"
      ]
    },
    {
      "cell_type": "code",
      "execution_count": null,
      "metadata": {
        "colab": {
          "base_uri": "https://localhost:8080/"
        },
        "id": "my1zpTaBFQSw",
        "outputId": "7edc251a-3e38-403b-f68b-4b7b2cb46a67"
      },
      "outputs": [
        {
          "output_type": "stream",
          "name": "stdout",
          "text": [
            "{'value1': 5, 'value2': 10, 'seq': [1, 2, 3, 4, 5]}\n"
          ]
        }
      ],
      "source": [
        "import json\n",
        "\n",
        "a = {'value1' : 5, 'value2': 10 , 'seq': [1,2,3,4,5]}\n",
        "\n",
        "filename ='test.json'\n",
        "with open(filename,'w') as f:\n",
        "  json.dump(a, f)\n",
        "\n",
        "with open(filename,'r') as f:\n",
        "  results = json.load(f)\n",
        "print(results)\n"
      ]
    },
    {
      "cell_type": "code",
      "source": [
        "# Linux 안에 내용 보기 cat \n",
        "\n",
        "!ls\n",
        "!cat test.json"
      ],
      "metadata": {
        "colab": {
          "base_uri": "https://localhost:8080/"
        },
        "id": "HZ2ZVdJtINyr",
        "outputId": "08ea2be6-1312-4f7f-d267-b13b07d7e057"
      },
      "execution_count": null,
      "outputs": [
        {
          "output_type": "stream",
          "name": "stdout",
          "text": [
            "sample_data  test.json\n",
            "{\"value1\": 5, \"value2\": 10, \"sequence\": [1, 2, 3, 4, 5]}"
          ]
        }
      ]
    },
    {
      "cell_type": "code",
      "source": [
        "!mkdir results\n",
        "!ls"
      ],
      "metadata": {
        "colab": {
          "base_uri": "https://localhost:8080/"
        },
        "id": "wlKWqqRZP7p7",
        "outputId": "eec8c417-42f2-49cd-a662-dbce19a331ef"
      },
      "execution_count": null,
      "outputs": [
        {
          "output_type": "stream",
          "name": "stdout",
          "text": [
            "results  sample_data  test.json\n"
          ]
        }
      ]
    },
    {
      "cell_type": "code",
      "source": [
        "import torch\n",
        "import torchvision\n",
        "import torchvision.transforms as transforms\n",
        "import torch.nn as nn\n",
        "import torch.nn.functional as F\n",
        "import torch.optim as optim\n",
        "import argparse\n",
        "import numpy as np\n",
        "import time\n",
        "from copy import deepcopy # Add Deepcopy for args"
      ],
      "metadata": {
        "id": "OwuBt_6eIuDM"
      },
      "execution_count": 1,
      "outputs": []
    },
    {
      "cell_type": "markdown",
      "source": [
        "### Data Preparation"
      ],
      "metadata": {
        "id": "CMnq5jsHRJk5"
      }
    },
    {
      "cell_type": "code",
      "source": [
        "transform = transforms.Compose(\n",
        "    [transforms.ToTensor(),\n",
        "     transforms.Normalize((0.5, 0.5, 0.5), (0.5, 0.5, 0.5))])\n",
        "\n",
        "trainset = torchvision.datasets.CIFAR10(root='./data', train=True,\n",
        "                                        download=True, transform=transform)\n",
        "trainset, valset = torch.utils.data.random_split(trainset, [40000, 10000])\n",
        "testset = torchvision.datasets.CIFAR10(root='./data', train=False,\n",
        "                                       download=True, transform=transform)\n",
        "partition = {'train': trainset, 'val':valset, 'test':testset}"
      ],
      "metadata": {
        "colab": {
          "base_uri": "https://localhost:8080/",
          "height": 104,
          "referenced_widgets": [
            "7ca1bc13a2e54f6bad94680aac8bd40f",
            "4c5fbe0607ba464fbd1c912aef6f785f",
            "cb8097216cd64fcb8956267285b3baa2",
            "b40ec6982ed3432fb7422c006a71bdbf",
            "83effacbc2324b70988038f095a207a3",
            "baedf3d7080b4716ab524dcbe8612585",
            "234e402363314d85aff315d72398df67",
            "43a68408c6c14550a5990505a612b61b",
            "0dd1bb9459bf4b3793626914ee94140f",
            "dbe22ac309354a6ca114c1642b04a1d9",
            "374a2ac178824c05813d8fd05a858b16"
          ]
        },
        "id": "AyYaY-upNwY6",
        "outputId": "c7eed05b-2092-48b2-8c49-603c75e61444"
      },
      "execution_count": 2,
      "outputs": [
        {
          "output_type": "stream",
          "name": "stdout",
          "text": [
            "Downloading https://www.cs.toronto.edu/~kriz/cifar-10-python.tar.gz to ./data/cifar-10-python.tar.gz\n"
          ]
        },
        {
          "output_type": "display_data",
          "data": {
            "application/vnd.jupyter.widget-view+json": {
              "model_id": "7ca1bc13a2e54f6bad94680aac8bd40f",
              "version_minor": 0,
              "version_major": 2
            },
            "text/plain": [
              "  0%|          | 0/170498071 [00:00<?, ?it/s]"
            ]
          },
          "metadata": {}
        },
        {
          "output_type": "stream",
          "name": "stdout",
          "text": [
            "Extracting ./data/cifar-10-python.tar.gz to ./data\n",
            "Files already downloaded and verified\n"
          ]
        }
      ]
    },
    {
      "cell_type": "markdown",
      "source": [
        "### Model Architecture"
      ],
      "metadata": {
        "id": "JdQLVrGORGnC"
      }
    },
    {
      "cell_type": "code",
      "source": [
        "class MLP(nn.Module):\n",
        "    def __init__(self, in_dim, out_dim, hid_dim, n_layer, act, dropout, use_bn, use_xavier):\n",
        "        super(MLP, self).__init__()\n",
        "        self.in_dim = in_dim\n",
        "        self.out_dim = out_dim\n",
        "        self.hid_dim = hid_dim\n",
        "        self.n_layer = n_layer\n",
        "        self.act = act\n",
        "        self.dropout = dropout\n",
        "        self.use_bn = use_bn\n",
        "        self.use_xavier = use_xavier\n",
        "        \n",
        "        # ====== Create Linear Layers ====== #\n",
        "        self.fc1 = nn.Linear(self.in_dim, self.hid_dim)\n",
        "        \n",
        "        self.linears = nn.ModuleList()\n",
        "        self.bns = nn.ModuleList()\n",
        "        for i in range(self.n_layer-1):\n",
        "            self.linears.append(nn.Linear(self.hid_dim, self.hid_dim))\n",
        "            if self.use_bn:\n",
        "                self.bns.append(nn.BatchNorm1d(self.hid_dim))\n",
        "                \n",
        "        self.fc2 = nn.Linear(self.hid_dim, self.out_dim)\n",
        "        \n",
        "        # ====== Create Activation Function ====== #\n",
        "        if self.act == 'relu':\n",
        "            self.act = nn.ReLU()\n",
        "        elif self.act == 'tanh':\n",
        "            self.act == nn.Tanh()\n",
        "        elif self.act == 'sigmoid':\n",
        "            self.act = nn.Sigmoid()\n",
        "        else:\n",
        "            raise ValueError('no valid activation function selected!')\n",
        "        \n",
        "        # ====== Create Regularization Layer ======= #\n",
        "        self.dropout = nn.Dropout(self.dropout)\n",
        "        if self.use_xavier:\n",
        "            self.xavier_init()\n",
        "          \n",
        "    def forward(self, x):\n",
        "        x = self.act(self.fc1(x))\n",
        "        for i in range(len(self.linears)):\n",
        "            x = self.act(self.linears[i](x))\n",
        "            x = self.bns[i](x)\n",
        "            x = self.dropout(x)\n",
        "        x = self.fc2(x)\n",
        "        return x\n",
        "    \n",
        "    def xavier_init(self):\n",
        "        for linear in self.linears:\n",
        "            nn.init.xavier_normal_(linear.weight)\n",
        "            linear.bias.data.fill_(0.01)\n",
        "            \n",
        "net = MLP(3072, 10, 100, 4, 'relu', 0.1, True, True) # Testing Model Construction\n"
      ],
      "metadata": {
        "id": "HRk39rl1QZDg"
      },
      "execution_count": 3,
      "outputs": []
    },
    {
      "cell_type": "markdown",
      "source": [
        "### Train, Valid, Test and Experiment"
      ],
      "metadata": {
        "id": "lKlmOJfMRDdj"
      }
    },
    {
      "cell_type": "code",
      "source": [
        "def train(net, partition, optimizer, criterion, args):\n",
        "    trainloader = torch.utils.data.DataLoader(partition['train'], \n",
        "                                              batch_size=args.train_batch_size, \n",
        "                                              shuffle=True, num_workers=2)\n",
        "    net.train()\n",
        "\n",
        "    correct = 0\n",
        "    total = 0\n",
        "    train_loss = 0.0\n",
        "    for i, data in enumerate(trainloader, 0):\n",
        "        optimizer.zero_grad() # [21.01.05 오류 수정] 매 Epoch 마다 .zero_grad()가 실행되는 것을 매 iteration 마다 실행되도록 수정했습니다. \n",
        "\n",
        "        # get the inputs\n",
        "        inputs, labels = data\n",
        "        inputs = inputs.view(-1, 3072)\n",
        "        inputs = inputs.cuda()\n",
        "        labels = labels.cuda()\n",
        "        outputs = net(inputs)\n",
        "\n",
        "        loss = criterion(outputs, labels)\n",
        "        loss.backward()\n",
        "        optimizer.step()\n",
        "\n",
        "        train_loss += loss.item()\n",
        "        _, predicted = torch.max(outputs.data, 1)\n",
        "        total += labels.size(0)\n",
        "        correct += (predicted == labels).sum().item()\n",
        "\n",
        "    train_loss = train_loss / len(trainloader)\n",
        "    train_acc = 100 * correct / total\n",
        "    return net, train_loss, train_acc"
      ],
      "metadata": {
        "id": "99j4wbYlQtOS"
      },
      "execution_count": 4,
      "outputs": []
    },
    {
      "cell_type": "code",
      "source": [
        "def validate(net, partition, criterion, args):\n",
        "    valloader = torch.utils.data.DataLoader(partition['val'], \n",
        "                                            batch_size=args.test_batch_size, \n",
        "                                            shuffle=False, num_workers=2)\n",
        "    net.eval()\n",
        "\n",
        "    correct = 0\n",
        "    total = 0\n",
        "    val_loss = 0 \n",
        "    with torch.no_grad():\n",
        "        for data in valloader:\n",
        "            images, labels = data\n",
        "            images = images.view(-1, 3072)\n",
        "            images = images.cuda()\n",
        "            labels = labels.cuda()\n",
        "            outputs = net(images)\n",
        "\n",
        "            loss = criterion(outputs, labels)\n",
        "            \n",
        "            val_loss += loss.item()\n",
        "            _, predicted = torch.max(outputs.data, 1)\n",
        "            total += labels.size(0)\n",
        "            correct += (predicted == labels).sum().item()\n",
        "\n",
        "        val_loss = val_loss / len(valloader)\n",
        "        val_acc = 100 * correct / total\n",
        "    return val_loss, val_acc"
      ],
      "metadata": {
        "id": "hFG7XGP3QwhP"
      },
      "execution_count": 5,
      "outputs": []
    },
    {
      "cell_type": "code",
      "source": [
        "def test(net, partition, args):\n",
        "    testloader = torch.utils.data.DataLoader(partition['test'], \n",
        "                                             batch_size=args.test_batch_size, \n",
        "                                             shuffle=False, num_workers=2)\n",
        "    net.eval()\n",
        "    \n",
        "    correct = 0\n",
        "    total = 0\n",
        "    with torch.no_grad():\n",
        "        for data in testloader:\n",
        "            images, labels = data\n",
        "            images = images.view(-1, 3072)\n",
        "            images = images.cuda()\n",
        "            labels = labels.cuda()\n",
        "\n",
        "            outputs = net(images)\n",
        "            _, predicted = torch.max(outputs.data, 1)\n",
        "            total += labels.size(0)\n",
        "            correct += (predicted == labels).sum().item()\n",
        "\n",
        "        test_acc = 100 * correct / total\n",
        "    return test_acc"
      ],
      "metadata": {
        "id": "rgsap2XvQxwi"
      },
      "execution_count": 6,
      "outputs": []
    },
    {
      "cell_type": "code",
      "source": [
        "def experiment(partition, args):\n",
        "  \n",
        "    net = MLP(args.in_dim, args.out_dim, args.hid_dim, args.n_layer, args.act, args.dropout, args.use_bn, args.use_xavier)\n",
        "    net.cuda()\n",
        "\n",
        "    criterion = nn.CrossEntropyLoss()\n",
        "    if args.optim == 'SGD':\n",
        "        optimizer = optim.RMSprop(net.parameters(), lr=args.lr, weight_decay=args.l2)\n",
        "    elif args.optim == 'RMSprop':\n",
        "        optimizer = optim.RMSprop(net.parameters(), lr=args.lr, weight_decay=args.l2)\n",
        "    elif args.optim == 'Adam':\n",
        "        optimizer = optim.Adam(net.parameters(), lr=args.lr, weight_decay=args.l2)\n",
        "    else:\n",
        "        raise ValueError('In-valid optimizer choice')\n",
        "    \n",
        "    # ===== List for epoch-wise data ====== #\n",
        "    train_losses = []\n",
        "    val_losses = []\n",
        "    train_accs = []\n",
        "    val_accs = []\n",
        "    # ===================================== #\n",
        "        \n",
        "    for epoch in range(args.epoch):  # loop over the dataset multiple times\n",
        "        ts = time.time()\n",
        "        net, train_loss, train_acc = train(net, partition, optimizer, criterion, args)\n",
        "        val_loss, val_acc = validate(net, partition, criterion, args)\n",
        "        te = time.time()\n",
        "        \n",
        "        # ====== Add Epoch Data ====== #\n",
        "        train_losses.append(train_loss)\n",
        "        val_losses.append(val_loss)\n",
        "        train_accs.append(train_acc)\n",
        "        val_accs.append(val_acc)\n",
        "        # ============================ #\n",
        "        \n",
        "        print('Epoch {}, Acc(train/val): {:2.2f}/{:2.2f}, Loss(train/val) {:2.2f}/{:2.2f}. Took {:2.2f} sec'.format(epoch, train_acc, val_acc, train_loss, val_loss, te-ts))\n",
        "        \n",
        "    test_acc = test(net, partition, args)    \n",
        "    \n",
        "    # ======= Add Result to Dictionary ======= #\n",
        "    result = {}\n",
        "    result['train_losses'] = train_losses\n",
        "    result['val_losses'] = val_losses\n",
        "    result['train_accs'] = train_accs\n",
        "    result['val_accs'] = val_accs\n",
        "    result['train_acc'] = train_acc\n",
        "    result['val_acc'] = val_acc\n",
        "    result['test_acc'] = test_acc\n",
        "    return vars(args), result\n",
        "    # ===================================== #"
      ],
      "metadata": {
        "id": "IKJVn92UQ0vZ"
      },
      "execution_count": 7,
      "outputs": []
    },
    {
      "cell_type": "markdown",
      "source": [
        "### Manage Experiment Result"
      ],
      "metadata": {
        "id": "IoUtCoMnQ_NR"
      }
    },
    {
      "cell_type": "code",
      "source": [
        "import hashlib\n",
        "import json\n",
        "from os import listdir\n",
        "from os.path import isfile, join\n",
        "import pandas as pd\n",
        "\n",
        "def save_exp_result(setting, result):\n",
        "    exp_name = setting['exp_name']\n",
        "    del setting['epoch']\n",
        "    del setting['test_batch_size']\n",
        "\n",
        "    hash_key = hashlib.sha1(str(setting).encode()).hexdigest()[:6]\n",
        "    filename = './results/{}-{}.json'.format(exp_name, hash_key)\n",
        "    result.update(setting)\n",
        "    with open(filename, 'w') as f:\n",
        "        json.dump(result, f)\n",
        "\n",
        "    \n",
        "def load_exp_result(exp_name):\n",
        "    dir_path = './results'\n",
        "    filenames = [f for f in listdir(dir_path) if isfile(join(dir_path, f)) if '.json' in f]\n",
        "    list_result = []\n",
        "    for filename in filenames:\n",
        "        if exp_name in filename:\n",
        "            with open(join(dir_path, filename), 'r') as infile:\n",
        "                results = json.load(infile)\n",
        "                list_result.append(results)\n",
        "    df = pd.DataFrame(list_result) # .drop(columns=[])\n",
        "    return df\n",
        "    "
      ],
      "metadata": {
        "id": "DtscGO4fQ2Vq"
      },
      "execution_count": 12,
      "outputs": []
    },
    {
      "cell_type": "markdown",
      "source": [
        "### Experiment Variable Control"
      ],
      "metadata": {
        "id": "M5VlfG6CQ6pj"
      }
    },
    {
      "cell_type": "code",
      "source": [
        "# ====== Random Seed Initialization ====== #\n",
        "seed = 123\n",
        "np.random.seed(seed)\n",
        "torch.manual_seed(seed)\n",
        "\n",
        "parser = argparse.ArgumentParser()\n",
        "args = parser.parse_args(\"\")\n",
        "args.exp_name = \"exp2_lr_epoch\"\n",
        "\n",
        "# ====== Model Capacity ====== #\n",
        "args.in_dim = 3072\n",
        "args.out_dim = 10\n",
        "args.hid_dim = 100\n",
        "args.act = 'relu'\n",
        "args.n_layer = 3\n",
        "args.hid_dim = 300\n",
        "\n",
        "# ====== Regularization ======= #\n",
        "args.dropout = 0.2\n",
        "args.use_bn = True\n",
        "args.l2 = 0.00001\n",
        "args.use_xavier = True\n",
        "\n",
        "# ====== Optimizer & Training ====== #\n",
        "args.optim = 'RMSprop' #'RMSprop' #SGD, RMSprop, ADAM...\n",
        "\n",
        "args.train_batch_size = 256\n",
        "args.test_batch_size = 1024\n",
        "\n",
        "# ====== Experiment Variable ====== #\n",
        "name_var1 = 'lr'\n",
        "name_var2 = 'epoch'\n",
        "\n",
        "list_var1 = [0.0001, 0.00005, 0.001]\n",
        "list_var2 = [10 , 20 ,30]\n",
        "\n",
        "\n",
        "for var1 in list_var1:\n",
        "    for var2 in list_var2:\n",
        "        setattr(args, name_var1, var1)\n",
        "        setattr(args, name_var2, var2)\n",
        "        print(args)\n",
        "                \n",
        "        setting, result = experiment(partition, deepcopy(args))\n",
        "        save_exp_result(setting, result)"
      ],
      "metadata": {
        "id": "PyvEP59CQ3-h",
        "colab": {
          "base_uri": "https://localhost:8080/"
        },
        "outputId": "2f56b676-528c-4305-9cbc-2821eafa73d5"
      },
      "execution_count": 95,
      "outputs": [
        {
          "output_type": "stream",
          "name": "stdout",
          "text": [
            "Namespace(act='relu', dropout=0.2, epoch=10, exp_name='exp2_lr_epoch', hid_dim=300, in_dim=3072, l2=1e-05, lr=0.0001, n_layer=3, optim='RMSprop', out_dim=10, test_batch_size=1024, train_batch_size=256, use_bn=True, use_xavier=True)\n",
            "Epoch 0, Acc(train/val): 37.83/43.35, Loss(train/val) 1.76/1.60. Took 7.74 sec\n",
            "Epoch 1, Acc(train/val): 45.07/46.46, Loss(train/val) 1.55/1.53. Took 7.77 sec\n",
            "Epoch 2, Acc(train/val): 48.41/47.37, Loss(train/val) 1.46/1.49. Took 7.83 sec\n",
            "Epoch 3, Acc(train/val): 50.93/49.13, Loss(train/val) 1.39/1.45. Took 7.79 sec\n",
            "Epoch 4, Acc(train/val): 53.13/49.43, Loss(train/val) 1.33/1.44. Took 7.83 sec\n",
            "Epoch 5, Acc(train/val): 54.99/50.75, Loss(train/val) 1.27/1.42. Took 7.84 sec\n",
            "Epoch 6, Acc(train/val): 56.48/50.75, Loss(train/val) 1.23/1.41. Took 7.84 sec\n",
            "Epoch 7, Acc(train/val): 57.95/51.38, Loss(train/val) 1.19/1.38. Took 7.87 sec\n",
            "Epoch 8, Acc(train/val): 59.75/52.33, Loss(train/val) 1.14/1.37. Took 7.75 sec\n",
            "Epoch 9, Acc(train/val): 61.13/51.56, Loss(train/val) 1.11/1.41. Took 7.77 sec\n",
            "Namespace(act='relu', dropout=0.2, epoch=20, exp_name='exp2_lr_epoch', hid_dim=300, in_dim=3072, l2=1e-05, lr=0.0001, n_layer=3, optim='RMSprop', out_dim=10, test_batch_size=1024, train_batch_size=256, use_bn=True, use_xavier=True)\n",
            "Epoch 0, Acc(train/val): 37.56/43.73, Loss(train/val) 1.76/1.59. Took 7.77 sec\n",
            "Epoch 1, Acc(train/val): 45.67/47.16, Loss(train/val) 1.55/1.51. Took 7.84 sec\n",
            "Epoch 2, Acc(train/val): 48.95/48.73, Loss(train/val) 1.45/1.46. Took 7.75 sec\n",
            "Epoch 3, Acc(train/val): 51.51/49.81, Loss(train/val) 1.38/1.42. Took 7.71 sec\n",
            "Epoch 4, Acc(train/val): 53.67/50.32, Loss(train/val) 1.32/1.41. Took 7.82 sec\n",
            "Epoch 5, Acc(train/val): 55.16/51.32, Loss(train/val) 1.27/1.38. Took 7.92 sec\n",
            "Epoch 6, Acc(train/val): 57.11/51.65, Loss(train/val) 1.22/1.38. Took 7.83 sec\n",
            "Epoch 7, Acc(train/val): 58.41/52.58, Loss(train/val) 1.17/1.36. Took 7.70 sec\n",
            "Epoch 8, Acc(train/val): 60.10/50.40, Loss(train/val) 1.13/1.41. Took 7.72 sec\n",
            "Epoch 9, Acc(train/val): 61.34/52.60, Loss(train/val) 1.10/1.37. Took 7.70 sec\n",
            "Epoch 10, Acc(train/val): 62.80/53.00, Loss(train/val) 1.06/1.35. Took 7.63 sec\n",
            "Epoch 11, Acc(train/val): 63.70/51.41, Loss(train/val) 1.03/1.41. Took 7.74 sec\n",
            "Epoch 12, Acc(train/val): 65.26/51.17, Loss(train/val) 0.99/1.43. Took 7.64 sec\n",
            "Epoch 13, Acc(train/val): 66.11/50.81, Loss(train/val) 0.96/1.48. Took 7.74 sec\n",
            "Epoch 14, Acc(train/val): 67.44/51.67, Loss(train/val) 0.93/1.42. Took 7.73 sec\n",
            "Epoch 15, Acc(train/val): 68.35/51.53, Loss(train/val) 0.90/1.46. Took 7.59 sec\n",
            "Epoch 16, Acc(train/val): 69.61/51.51, Loss(train/val) 0.87/1.46. Took 7.64 sec\n",
            "Epoch 17, Acc(train/val): 70.17/52.67, Loss(train/val) 0.84/1.42. Took 7.73 sec\n",
            "Epoch 18, Acc(train/val): 71.70/52.94, Loss(train/val) 0.81/1.46. Took 7.75 sec\n",
            "Epoch 19, Acc(train/val): 72.80/51.03, Loss(train/val) 0.79/1.50. Took 7.66 sec\n",
            "Namespace(act='relu', dropout=0.2, epoch=30, exp_name='exp2_lr_epoch', hid_dim=300, in_dim=3072, l2=1e-05, lr=0.0001, n_layer=3, optim='RMSprop', out_dim=10, test_batch_size=1024, train_batch_size=256, use_bn=True, use_xavier=True)\n",
            "Epoch 0, Acc(train/val): 38.14/43.32, Loss(train/val) 1.75/1.62. Took 7.62 sec\n",
            "Epoch 1, Acc(train/val): 45.30/46.69, Loss(train/val) 1.55/1.52. Took 7.77 sec\n",
            "Epoch 2, Acc(train/val): 48.91/48.05, Loss(train/val) 1.45/1.48. Took 7.73 sec\n",
            "Epoch 3, Acc(train/val): 51.14/48.54, Loss(train/val) 1.38/1.47. Took 7.65 sec\n",
            "Epoch 4, Acc(train/val): 53.15/45.96, Loss(train/val) 1.33/1.54. Took 7.61 sec\n",
            "Epoch 5, Acc(train/val): 55.09/50.57, Loss(train/val) 1.27/1.41. Took 7.68 sec\n",
            "Epoch 6, Acc(train/val): 56.70/50.67, Loss(train/val) 1.23/1.40. Took 7.95 sec\n",
            "Epoch 7, Acc(train/val): 58.16/50.61, Loss(train/val) 1.18/1.41. Took 7.61 sec\n",
            "Epoch 8, Acc(train/val): 59.91/52.21, Loss(train/val) 1.14/1.37. Took 7.63 sec\n",
            "Epoch 9, Acc(train/val): 61.19/50.42, Loss(train/val) 1.10/1.42. Took 7.85 sec\n",
            "Epoch 10, Acc(train/val): 62.53/51.64, Loss(train/val) 1.07/1.39. Took 7.66 sec\n",
            "Epoch 11, Acc(train/val): 63.94/51.08, Loss(train/val) 1.03/1.42. Took 7.89 sec\n",
            "Epoch 12, Acc(train/val): 64.95/52.13, Loss(train/val) 0.99/1.41. Took 7.91 sec\n",
            "Epoch 13, Acc(train/val): 66.20/48.53, Loss(train/val) 0.96/1.52. Took 7.79 sec\n",
            "Epoch 14, Acc(train/val): 67.34/52.66, Loss(train/val) 0.93/1.38. Took 8.02 sec\n",
            "Epoch 15, Acc(train/val): 68.40/51.26, Loss(train/val) 0.90/1.43. Took 8.09 sec\n",
            "Epoch 16, Acc(train/val): 69.53/51.75, Loss(train/val) 0.87/1.48. Took 8.00 sec\n",
            "Epoch 17, Acc(train/val): 70.51/49.81, Loss(train/val) 0.84/1.50. Took 7.95 sec\n",
            "Epoch 18, Acc(train/val): 71.57/51.74, Loss(train/val) 0.82/1.46. Took 7.92 sec\n",
            "Epoch 19, Acc(train/val): 72.33/48.86, Loss(train/val) 0.79/1.67. Took 8.04 sec\n",
            "Epoch 20, Acc(train/val): 73.37/49.44, Loss(train/val) 0.76/1.63. Took 7.89 sec\n",
            "Epoch 21, Acc(train/val): 74.16/49.84, Loss(train/val) 0.74/1.63. Took 7.91 sec\n",
            "Epoch 22, Acc(train/val): 75.22/51.55, Loss(train/val) 0.72/1.53. Took 7.89 sec\n",
            "Epoch 23, Acc(train/val): 75.82/49.26, Loss(train/val) 0.69/1.67. Took 9.31 sec\n",
            "Epoch 24, Acc(train/val): 76.69/50.60, Loss(train/val) 0.66/1.56. Took 8.07 sec\n",
            "Epoch 25, Acc(train/val): 77.69/51.97, Loss(train/val) 0.65/1.61. Took 7.59 sec\n",
            "Epoch 26, Acc(train/val): 77.61/51.39, Loss(train/val) 0.64/1.60. Took 7.71 sec\n",
            "Epoch 27, Acc(train/val): 78.55/51.01, Loss(train/val) 0.61/1.65. Took 8.23 sec\n",
            "Epoch 28, Acc(train/val): 79.92/51.79, Loss(train/val) 0.58/1.59. Took 8.58 sec\n",
            "Epoch 29, Acc(train/val): 80.19/50.74, Loss(train/val) 0.57/1.69. Took 7.40 sec\n",
            "Namespace(act='relu', dropout=0.2, epoch=10, exp_name='exp2_lr_epoch', hid_dim=300, in_dim=3072, l2=1e-05, lr=5e-05, n_layer=3, optim='RMSprop', out_dim=10, test_batch_size=1024, train_batch_size=256, use_bn=True, use_xavier=True)\n",
            "Epoch 0, Acc(train/val): 36.35/42.97, Loss(train/val) 1.80/1.63. Took 7.45 sec\n",
            "Epoch 1, Acc(train/val): 43.84/45.41, Loss(train/val) 1.60/1.56. Took 7.50 sec\n",
            "Epoch 2, Acc(train/val): 47.12/46.76, Loss(train/val) 1.52/1.51. Took 7.39 sec\n",
            "Epoch 3, Acc(train/val): 49.01/48.08, Loss(train/val) 1.45/1.48. Took 7.45 sec\n",
            "Epoch 4, Acc(train/val): 51.09/48.59, Loss(train/val) 1.40/1.46. Took 7.48 sec\n",
            "Epoch 5, Acc(train/val): 52.63/49.61, Loss(train/val) 1.35/1.43. Took 7.51 sec\n",
            "Epoch 6, Acc(train/val): 54.24/49.69, Loss(train/val) 1.31/1.42. Took 7.37 sec\n",
            "Epoch 7, Acc(train/val): 55.64/50.76, Loss(train/val) 1.27/1.40. Took 7.41 sec\n",
            "Epoch 8, Acc(train/val): 56.77/51.33, Loss(train/val) 1.24/1.39. Took 7.32 sec\n",
            "Epoch 9, Acc(train/val): 58.13/51.08, Loss(train/val) 1.20/1.39. Took 7.55 sec\n",
            "Namespace(act='relu', dropout=0.2, epoch=20, exp_name='exp2_lr_epoch', hid_dim=300, in_dim=3072, l2=1e-05, lr=5e-05, n_layer=3, optim='RMSprop', out_dim=10, test_batch_size=1024, train_batch_size=256, use_bn=True, use_xavier=True)\n",
            "Epoch 0, Acc(train/val): 36.40/42.42, Loss(train/val) 1.80/1.64. Took 7.65 sec\n",
            "Epoch 1, Acc(train/val): 43.81/45.11, Loss(train/val) 1.60/1.56. Took 7.58 sec\n",
            "Epoch 2, Acc(train/val): 47.00/46.71, Loss(train/val) 1.51/1.50. Took 7.53 sec\n",
            "Epoch 3, Acc(train/val): 49.15/47.44, Loss(train/val) 1.45/1.48. Took 7.43 sec\n",
            "Epoch 4, Acc(train/val): 51.07/48.66, Loss(train/val) 1.39/1.46. Took 7.73 sec\n",
            "Epoch 5, Acc(train/val): 52.67/49.71, Loss(train/val) 1.35/1.42. Took 7.50 sec\n",
            "Epoch 6, Acc(train/val): 54.52/50.59, Loss(train/val) 1.30/1.41. Took 7.49 sec\n",
            "Epoch 7, Acc(train/val): 55.56/51.30, Loss(train/val) 1.27/1.40. Took 7.52 sec\n",
            "Epoch 8, Acc(train/val): 57.35/51.20, Loss(train/val) 1.23/1.39. Took 7.41 sec\n",
            "Epoch 9, Acc(train/val): 58.54/51.73, Loss(train/val) 1.19/1.38. Took 7.38 sec\n",
            "Epoch 10, Acc(train/val): 59.47/51.67, Loss(train/val) 1.16/1.38. Took 7.40 sec\n",
            "Epoch 11, Acc(train/val): 60.73/50.86, Loss(train/val) 1.12/1.40. Took 7.28 sec\n",
            "Epoch 12, Acc(train/val): 61.70/51.60, Loss(train/val) 1.10/1.39. Took 7.40 sec\n",
            "Epoch 13, Acc(train/val): 62.86/51.22, Loss(train/val) 1.07/1.38. Took 7.58 sec\n",
            "Epoch 14, Acc(train/val): 63.91/52.26, Loss(train/val) 1.04/1.38. Took 7.38 sec\n",
            "Epoch 15, Acc(train/val): 65.12/51.31, Loss(train/val) 1.00/1.39. Took 7.30 sec\n",
            "Epoch 16, Acc(train/val): 65.89/51.91, Loss(train/val) 0.98/1.40. Took 7.30 sec\n",
            "Epoch 17, Acc(train/val): 66.63/52.67, Loss(train/val) 0.96/1.38. Took 7.36 sec\n",
            "Epoch 18, Acc(train/val): 67.45/49.75, Loss(train/val) 0.93/1.49. Took 7.39 sec\n",
            "Epoch 19, Acc(train/val): 68.61/52.12, Loss(train/val) 0.90/1.42. Took 7.30 sec\n",
            "Namespace(act='relu', dropout=0.2, epoch=30, exp_name='exp2_lr_epoch', hid_dim=300, in_dim=3072, l2=1e-05, lr=5e-05, n_layer=3, optim='RMSprop', out_dim=10, test_batch_size=1024, train_batch_size=256, use_bn=True, use_xavier=True)\n",
            "Epoch 0, Acc(train/val): 35.83/41.96, Loss(train/val) 1.82/1.65. Took 7.49 sec\n",
            "Epoch 1, Acc(train/val): 43.88/45.27, Loss(train/val) 1.61/1.56. Took 7.41 sec\n",
            "Epoch 2, Acc(train/val): 46.92/47.34, Loss(train/val) 1.52/1.51. Took 7.44 sec\n",
            "Epoch 3, Acc(train/val): 49.15/48.06, Loss(train/val) 1.45/1.49. Took 7.32 sec\n",
            "Epoch 4, Acc(train/val): 51.11/48.57, Loss(train/val) 1.40/1.46. Took 7.34 sec\n",
            "Epoch 5, Acc(train/val): 52.70/50.07, Loss(train/val) 1.35/1.43. Took 7.28 sec\n",
            "Epoch 6, Acc(train/val): 53.97/49.80, Loss(train/val) 1.31/1.43. Took 7.45 sec\n",
            "Epoch 7, Acc(train/val): 55.76/50.45, Loss(train/val) 1.27/1.42. Took 7.87 sec\n",
            "Epoch 8, Acc(train/val): 57.08/50.48, Loss(train/val) 1.23/1.40. Took 9.48 sec\n",
            "Epoch 9, Acc(train/val): 58.15/50.84, Loss(train/val) 1.20/1.40. Took 7.78 sec\n",
            "Epoch 10, Acc(train/val): 59.52/51.20, Loss(train/val) 1.17/1.39. Took 7.63 sec\n",
            "Epoch 11, Acc(train/val): 60.51/50.99, Loss(train/val) 1.13/1.39. Took 7.51 sec\n",
            "Epoch 12, Acc(train/val): 61.74/51.74, Loss(train/val) 1.10/1.39. Took 7.57 sec\n",
            "Epoch 13, Acc(train/val): 62.55/51.59, Loss(train/val) 1.07/1.38. Took 7.62 sec\n",
            "Epoch 14, Acc(train/val): 63.49/51.23, Loss(train/val) 1.05/1.39. Took 7.37 sec\n",
            "Epoch 15, Acc(train/val): 64.55/50.64, Loss(train/val) 1.02/1.41. Took 7.42 sec\n",
            "Epoch 16, Acc(train/val): 65.50/51.57, Loss(train/val) 1.00/1.38. Took 7.32 sec\n",
            "Epoch 17, Acc(train/val): 66.59/51.75, Loss(train/val) 0.96/1.41. Took 7.36 sec\n",
            "Epoch 18, Acc(train/val): 67.36/51.82, Loss(train/val) 0.94/1.41. Took 7.56 sec\n",
            "Epoch 19, Acc(train/val): 68.46/52.08, Loss(train/val) 0.91/1.39. Took 7.48 sec\n",
            "Epoch 20, Acc(train/val): 69.03/48.52, Loss(train/val) 0.89/1.56. Took 7.39 sec\n",
            "Epoch 21, Acc(train/val): 70.17/50.91, Loss(train/val) 0.87/1.45. Took 7.43 sec\n",
            "Epoch 22, Acc(train/val): 70.45/51.20, Loss(train/val) 0.85/1.46. Took 7.49 sec\n",
            "Epoch 23, Acc(train/val): 71.48/51.01, Loss(train/val) 0.83/1.47. Took 7.46 sec\n",
            "Epoch 24, Acc(train/val): 72.36/51.14, Loss(train/val) 0.80/1.45. Took 7.69 sec\n",
            "Epoch 25, Acc(train/val): 72.86/49.93, Loss(train/val) 0.78/1.53. Took 7.41 sec\n",
            "Epoch 26, Acc(train/val): 73.69/50.45, Loss(train/val) 0.76/1.50. Took 7.62 sec\n",
            "Epoch 27, Acc(train/val): 74.76/51.52, Loss(train/val) 0.74/1.49. Took 7.79 sec\n",
            "Epoch 28, Acc(train/val): 75.00/51.21, Loss(train/val) 0.72/1.50. Took 7.71 sec\n",
            "Epoch 29, Acc(train/val): 75.82/49.66, Loss(train/val) 0.70/1.59. Took 7.62 sec\n",
            "Namespace(act='relu', dropout=0.2, epoch=10, exp_name='exp2_lr_epoch', hid_dim=300, in_dim=3072, l2=1e-05, lr=0.001, n_layer=3, optim='RMSprop', out_dim=10, test_batch_size=1024, train_batch_size=256, use_bn=True, use_xavier=True)\n",
            "Epoch 0, Acc(train/val): 37.80/38.56, Loss(train/val) 1.74/1.73. Took 7.66 sec\n",
            "Epoch 1, Acc(train/val): 46.62/42.12, Loss(train/val) 1.49/1.64. Took 7.95 sec\n",
            "Epoch 2, Acc(train/val): 50.39/43.27, Loss(train/val) 1.39/1.71. Took 8.57 sec\n",
            "Epoch 3, Acc(train/val): 52.97/46.62, Loss(train/val) 1.31/1.51. Took 7.70 sec\n",
            "Epoch 4, Acc(train/val): 55.96/45.98, Loss(train/val) 1.24/1.64. Took 7.64 sec\n",
            "Epoch 5, Acc(train/val): 57.93/50.13, Loss(train/val) 1.18/1.41. Took 7.64 sec\n",
            "Epoch 6, Acc(train/val): 59.76/44.50, Loss(train/val) 1.13/1.72. Took 7.68 sec\n",
            "Epoch 7, Acc(train/val): 61.66/48.34, Loss(train/val) 1.07/1.55. Took 7.69 sec\n",
            "Epoch 8, Acc(train/val): 63.43/52.71, Loss(train/val) 1.02/1.40. Took 7.65 sec\n",
            "Epoch 9, Acc(train/val): 65.46/48.56, Loss(train/val) 0.97/1.59. Took 7.66 sec\n",
            "Namespace(act='relu', dropout=0.2, epoch=20, exp_name='exp2_lr_epoch', hid_dim=300, in_dim=3072, l2=1e-05, lr=0.001, n_layer=3, optim='RMSprop', out_dim=10, test_batch_size=1024, train_batch_size=256, use_bn=True, use_xavier=True)\n",
            "Epoch 0, Acc(train/val): 37.70/38.40, Loss(train/val) 1.75/1.74. Took 7.63 sec\n",
            "Epoch 1, Acc(train/val): 46.00/44.99, Loss(train/val) 1.50/1.55. Took 7.60 sec\n",
            "Epoch 2, Acc(train/val): 50.14/45.59, Loss(train/val) 1.39/1.51. Took 7.64 sec\n",
            "Epoch 3, Acc(train/val): 52.59/47.85, Loss(train/val) 1.32/1.46. Took 7.64 sec\n",
            "Epoch 4, Acc(train/val): 55.61/48.14, Loss(train/val) 1.25/1.50. Took 7.60 sec\n",
            "Epoch 5, Acc(train/val): 57.36/45.00, Loss(train/val) 1.19/1.60. Took 7.58 sec\n",
            "Epoch 6, Acc(train/val): 59.76/51.27, Loss(train/val) 1.13/1.41. Took 7.56 sec\n",
            "Epoch 7, Acc(train/val): 61.58/49.71, Loss(train/val) 1.08/1.49. Took 7.59 sec\n",
            "Epoch 8, Acc(train/val): 63.27/48.61, Loss(train/val) 1.03/1.52. Took 7.47 sec\n",
            "Epoch 9, Acc(train/val): 64.92/49.95, Loss(train/val) 0.98/1.56. Took 7.59 sec\n",
            "Epoch 10, Acc(train/val): 66.66/49.52, Loss(train/val) 0.93/1.59. Took 7.66 sec\n",
            "Epoch 11, Acc(train/val): 67.73/50.93, Loss(train/val) 0.90/1.50. Took 7.53 sec\n",
            "Epoch 12, Acc(train/val): 69.52/50.10, Loss(train/val) 0.85/1.55. Took 7.52 sec\n",
            "Epoch 13, Acc(train/val): 70.87/46.99, Loss(train/val) 0.81/1.70. Took 7.54 sec\n",
            "Epoch 14, Acc(train/val): 71.87/49.54, Loss(train/val) 0.78/1.69. Took 7.46 sec\n",
            "Epoch 15, Acc(train/val): 74.03/51.34, Loss(train/val) 0.73/1.63. Took 7.58 sec\n",
            "Epoch 16, Acc(train/val): 75.06/50.47, Loss(train/val) 0.70/1.70. Took 7.48 sec\n",
            "Epoch 17, Acc(train/val): 76.29/51.37, Loss(train/val) 0.66/1.71. Took 7.49 sec\n",
            "Epoch 18, Acc(train/val): 77.17/52.37, Loss(train/val) 0.64/1.63. Took 7.41 sec\n",
            "Epoch 19, Acc(train/val): 77.96/51.28, Loss(train/val) 0.61/1.79. Took 7.10 sec\n",
            "Namespace(act='relu', dropout=0.2, epoch=30, exp_name='exp2_lr_epoch', hid_dim=300, in_dim=3072, l2=1e-05, lr=0.001, n_layer=3, optim='RMSprop', out_dim=10, test_batch_size=1024, train_batch_size=256, use_bn=True, use_xavier=True)\n",
            "Epoch 0, Acc(train/val): 37.75/40.81, Loss(train/val) 1.74/1.63. Took 7.27 sec\n",
            "Epoch 1, Acc(train/val): 46.57/45.46, Loss(train/val) 1.50/1.53. Took 7.32 sec\n",
            "Epoch 2, Acc(train/val): 50.16/44.23, Loss(train/val) 1.39/1.59. Took 7.34 sec\n",
            "Epoch 3, Acc(train/val): 52.99/47.66, Loss(train/val) 1.32/1.48. Took 7.37 sec\n",
            "Epoch 4, Acc(train/val): 55.81/45.64, Loss(train/val) 1.25/1.56. Took 7.27 sec\n",
            "Epoch 5, Acc(train/val): 57.54/49.79, Loss(train/val) 1.19/1.48. Took 7.30 sec\n",
            "Epoch 6, Acc(train/val): 59.76/49.55, Loss(train/val) 1.13/1.50. Took 7.55 sec\n",
            "Epoch 7, Acc(train/val): 61.71/50.30, Loss(train/val) 1.07/1.44. Took 7.54 sec\n",
            "Epoch 8, Acc(train/val): 63.55/52.55, Loss(train/val) 1.03/1.40. Took 7.38 sec\n",
            "Epoch 9, Acc(train/val): 65.00/47.25, Loss(train/val) 0.97/1.68. Took 7.53 sec\n",
            "Epoch 10, Acc(train/val): 66.81/50.50, Loss(train/val) 0.93/1.59. Took 7.43 sec\n",
            "Epoch 11, Acc(train/val): 68.19/50.87, Loss(train/val) 0.89/1.49. Took 7.43 sec\n",
            "Epoch 12, Acc(train/val): 69.75/49.45, Loss(train/val) 0.85/1.58. Took 7.38 sec\n",
            "Epoch 13, Acc(train/val): 71.51/48.71, Loss(train/val) 0.80/1.66. Took 7.33 sec\n",
            "Epoch 14, Acc(train/val): 72.81/50.28, Loss(train/val) 0.77/1.66. Took 7.40 sec\n",
            "Epoch 15, Acc(train/val): 73.82/51.23, Loss(train/val) 0.73/1.63. Took 7.49 sec\n",
            "Epoch 16, Acc(train/val): 75.00/49.48, Loss(train/val) 0.70/1.74. Took 7.48 sec\n",
            "Epoch 17, Acc(train/val): 76.36/50.81, Loss(train/val) 0.66/1.73. Took 7.32 sec\n",
            "Epoch 18, Acc(train/val): 77.55/48.85, Loss(train/val) 0.63/1.90. Took 7.38 sec\n",
            "Epoch 19, Acc(train/val): 78.48/51.46, Loss(train/val) 0.60/1.72. Took 7.38 sec\n",
            "Epoch 20, Acc(train/val): 79.48/49.62, Loss(train/val) 0.57/1.89. Took 7.45 sec\n",
            "Epoch 21, Acc(train/val): 80.00/52.22, Loss(train/val) 0.56/1.73. Took 7.50 sec\n",
            "Epoch 22, Acc(train/val): 81.00/51.55, Loss(train/val) 0.53/1.84. Took 7.33 sec\n",
            "Epoch 23, Acc(train/val): 81.24/48.22, Loss(train/val) 0.52/2.07. Took 7.34 sec\n",
            "Epoch 24, Acc(train/val): 82.39/51.99, Loss(train/val) 0.49/1.89. Took 7.78 sec\n",
            "Epoch 25, Acc(train/val): 83.11/51.16, Loss(train/val) 0.47/1.97. Took 7.42 sec\n",
            "Epoch 26, Acc(train/val): 83.78/51.51, Loss(train/val) 0.45/2.00. Took 7.58 sec\n",
            "Epoch 27, Acc(train/val): 84.35/50.53, Loss(train/val) 0.44/2.02. Took 7.38 sec\n",
            "Epoch 28, Acc(train/val): 84.76/51.40, Loss(train/val) 0.43/2.17. Took 7.35 sec\n",
            "Epoch 29, Acc(train/val): 85.62/50.28, Loss(train/val) 0.40/2.25. Took 7.50 sec\n"
          ]
        }
      ]
    },
    {
      "cell_type": "markdown",
      "source": [
        "### Visualization"
      ],
      "metadata": {
        "id": "vPIDqwD8Q4eh"
      }
    },
    {
      "cell_type": "code",
      "source": [
        "results = load_exp_result('exp1')"
      ],
      "metadata": {
        "id": "j0rvCuQ6ViqH"
      },
      "execution_count": 14,
      "outputs": []
    },
    {
      "cell_type": "code",
      "source": [
        "results.columns"
      ],
      "metadata": {
        "colab": {
          "base_uri": "https://localhost:8080/"
        },
        "id": "R0T1WZceLU0V",
        "outputId": "378fbdee-72e3-4fbc-8692-18efef5ad76f"
      },
      "execution_count": 22,
      "outputs": [
        {
          "output_type": "execute_result",
          "data": {
            "text/plain": [
              "Index(['train_losses', 'val_losses', 'train_accs', 'val_accs', 'train_acc',\n",
              "       'val_acc', 'test_acc', 'exp_name', 'in_dim', 'out_dim', 'hid_dim',\n",
              "       'act', 'dropout', 'use_bn', 'l2', 'use_xavier', 'optim', 'lr',\n",
              "       'train_batch_size', 'n_layer'],\n",
              "      dtype='object')"
            ]
          },
          "metadata": {},
          "execution_count": 22
        }
      ]
    },
    {
      "cell_type": "code",
      "source": [
        "# [(epoch 와 loss에 따른) (n_layer 와 hid_dim) ] 의 ( loss 값의 변화_ train vs val  )\n",
        "\n",
        "import seaborn as sns\n",
        "import matplotlib.pyplot as plt\n",
        "def plot_loss_variation(var1, var2, df, **kwargs):\n",
        "\n",
        "  list_v1 = df[var1].unique()\n",
        "  list_v2 = df[var2].unique()\n",
        "\n",
        "  final_data = []\n",
        "\n",
        "  for value1 in list_v1:\n",
        "    for value2 in list_v2:\n",
        "      row = df.loc[(df[var1] == value1 ) &  (df[var2] == value2)]\n",
        "\n",
        "      train_losses = list(row['train_losses'])[0]\n",
        "      val_losses = list(row['val_losses'])[0]\n",
        "\n",
        "      # epoch 마다 train_loss / val_loss 만들기\n",
        "      for epoch, train_loss in enumerate(train_losses):\n",
        "        final_data.append({'type' : 'train','epoch' : epoch ,'loss': train_loss, var1 : value1, var2 : value2})\n",
        "      for epoch, valid_loss in enumerate(val_losses):\n",
        "        final_data.append({'type' : 'valid','epoch' : epoch ,'loss': valid_loss, var1 : value1, var2 : value2})\n",
        "\n",
        "  df = pd.DataFrame(final_data)\n",
        "\n",
        "  g = sns.FacetGrid(df, row= var2, col= var1, hue='type', **kwargs)\n",
        "  g = g.map(plt.plot, 'epoch', 'loss' , marker='.')\n",
        "\n",
        "\n",
        "  def show_loss(x, y, metric, **kwargs):\n",
        "          plt.scatter(x, y, alpha=0.3, s=1)\n",
        "          metric = \"Loss: {:1.3f}\".format(list(metric.values)[0])\n",
        "          plt.text(0.05, 0.95, metric,  horizontalalignment='left', verticalalignment='center', transform=plt.gca().transAxes, bbox=dict(facecolor='yellow', alpha=0.5, boxstyle=\"round,pad=0.1\"))\n",
        "  g = g.map(show_loss, 'epoch', 'loss', 'loss')\n",
        "  \n",
        "  g.add_legend()\n",
        "  g.fig.suptitle('Train loss vs Val loss')\n",
        "  plt.subplots_adjust(top = 0.89)\n",
        "\n",
        "\n"
      ],
      "metadata": {
        "id": "r97x-LxKKzJF"
      },
      "execution_count": 90,
      "outputs": []
    },
    {
      "cell_type": "code",
      "source": [
        "df = load_exp_result('exp1')\n",
        "\n",
        "plot_loss_variation('n_layer','hid_dim', df, margin_titles = True)"
      ],
      "metadata": {
        "colab": {
          "base_uri": "https://localhost:8080/",
          "height": 443
        },
        "id": "eNzRnE8iQ0xt",
        "outputId": "4ad26cac-a340-4f98-a715-b7e5231549b5"
      },
      "execution_count": 91,
      "outputs": [
        {
          "output_type": "display_data",
          "data": {
            "image/png": "[encoded data removed]",
            "text/plain": [
              "<Figure size 708.125x432 with 6 Axes>"
            ]
          },
          "metadata": {
            "needs_background": "light"
          }
        }
      ]
    },
    {
      "cell_type": "code",
      "source": [
        "df.columns"
      ],
      "metadata": {
        "colab": {
          "base_uri": "https://localhost:8080/"
        },
        "id": "3MJd6eIUhkcO",
        "outputId": "2eeecf56-af39-4d5a-a4bb-845d950f2ddc"
      },
      "execution_count": 62,
      "outputs": [
        {
          "output_type": "execute_result",
          "data": {
            "text/plain": [
              "Index(['train_losses', 'val_losses', 'train_accs', 'val_accs', 'train_acc',\n",
              "       'val_acc', 'test_acc', 'exp_name', 'in_dim', 'out_dim', 'hid_dim',\n",
              "       'act', 'dropout', 'use_bn', 'l2', 'use_xavier', 'optim', 'lr',\n",
              "       'train_batch_size', 'n_layer'],\n",
              "      dtype='object')"
            ]
          },
          "metadata": {},
          "execution_count": 62
        }
      ]
    },
    {
      "cell_type": "code",
      "source": [
        "def plot_acc_variation(var1, var2, df, **kwargs):\n",
        "  list_v1 = df[var1].unique()\n",
        "  list_v2 = df[var2].unique()\n",
        "  final_data = []\n",
        "\n",
        "  for value1 in list_v1:\n",
        "    for value2 in list_v2:\n",
        "      row = df.loc[(df[var1]==value1) & (df[var2] == value2) ]\n",
        "\n",
        "      train_acc = list(row['train_accs'])[0]\n",
        "      val_acc = list(row['val_accs'])[0]\n",
        "\n",
        "      max_val_acc = max(val_acc)\n",
        "\n",
        "      for epoch, t_acc in enumerate(train_acc):\n",
        "        final_data.append({'type': 'train', 'epoch' : epoch, 'acc': t_acc , var1 : value1, var2 : value2, 'max_val' : max_val_acc})\n",
        "      for epoch, v_acc in enumerate(val_acc):\n",
        "        final_data.append({'type': 'val', 'epoch' : epoch, 'acc': v_acc , var1 : value1, var2 : value2, 'max_val' : max_val_acc})\n",
        "  df = pd.DataFrame(final_data)\n",
        "  g = sns.FacetGrid(df, row=var1, col= var2,hue='type',margin_titles= True, sharey= False)\n",
        "\n",
        "\n",
        "  def show_acc(x, y, metric, **kwargs):\n",
        "    plt.scatter(x, y, alpha =0.3, s=1)\n",
        "    metric = \"MVA : {:1.3f}\".format(list(metric.values)[0])\n",
        "    plt.text(0.05, 0.95, metric,  horizontalalignment='left', verticalalignment='center', transform=plt.gca().transAxes, bbox=dict(facecolor='yellow', alpha=0.5, boxstyle=\"round,pad=0.1\"))\n",
        "  g = g.map(show_acc, 'epoch', 'acc','max_val')\n",
        "  g = g.map(plt.plot, 'epoch','acc')\n",
        "  g.add_legend()\n",
        "  g.fig.suptitle('Train Acc vs Val Acc')\n",
        "  plt.subplots_adjust(top= 0.89)\n",
        "\n",
        "      \n"
      ],
      "metadata": {
        "id": "eRrb_B9PchIt"
      },
      "execution_count": 92,
      "outputs": []
    },
    {
      "cell_type": "code",
      "source": [
        "\n",
        "plot_acc_variation('n_layer','hid_dim', df, margin_titles=True)"
      ],
      "metadata": {
        "colab": {
          "base_uri": "https://localhost:8080/",
          "height": 654
        },
        "id": "9hzrwJy3qUZ0",
        "outputId": "a8a2b89c-9f3e-436d-ed93-01bf1fe2e1e6"
      },
      "execution_count": 93,
      "outputs": [
        {
          "output_type": "display_data",
          "data": {
            "image/png": "[encoded data removed]",
            "text/plain": [
              "<Figure size 491.375x648 with 6 Axes>"
            ]
          },
          "metadata": {
            "needs_background": "light"
          }
        }
      ]
    },
    {
      "cell_type": "code",
      "source": [
        ""
      ],
      "metadata": {
        "id": "tMb3Ol9zqXnb"
      },
      "execution_count": null,
      "outputs": []
    },
    {
      "cell_type": "markdown",
      "source": [
        "### Visualization #2\n",
        "---"
      ],
      "metadata": {
        "id": "5tmPGD3BuKzy"
      }
    },
    {
      "cell_type": "code",
      "source": [
        "!cat results"
      ],
      "metadata": {
        "id": "x904C8yKvfAR"
      },
      "execution_count": null,
      "outputs": []
    },
    {
      "cell_type": "code",
      "source": [
        "df2 = load_exp_result('exp2')\n",
        "df2.head()"
      ],
      "metadata": {
        "colab": {
          "base_uri": "https://localhost:8080/",
          "height": 467
        },
        "id": "RpTy36LfuVEg",
        "outputId": "ca2be414-db81-4d67-dd6a-48b0d36f829e"
      },
      "execution_count": 99,
      "outputs": [
        {
          "output_type": "execute_result",
          "data": {
            "text/html": [
              "\n",
              "  <div id=\"df-20702341-dd86-4919-918e-d2ec4e6ef24a\">\n",
              "    <div class=\"colab-df-container\">\n",
              "      <div>\n",
              "<style scoped>\n",
              "    .dataframe tbody tr th:only-of-type {\n",
              "        vertical-align: middle;\n",
              "    }\n",
              "\n",
              "    .dataframe tbody tr th {\n",
              "        vertical-align: top;\n",
              "    }\n",
              "\n",
              "    .dataframe thead th {\n",
              "        text-align: right;\n",
              "    }\n",
              "</style>\n",
              "<table border=\"1\" class=\"dataframe\">\n",
              "  <thead>\n",
              "    <tr style=\"text-align: right;\">\n",
              "      <th></th>\n",
              "      <th>train_losses</th>\n",
              "      <th>val_losses</th>\n",
              "      <th>train_accs</th>\n",
              "      <th>val_accs</th>\n",
              "      <th>train_acc</th>\n",
              "      <th>val_acc</th>\n",
              "      <th>test_acc</th>\n",
              "      <th>exp_name</th>\n",
              "      <th>in_dim</th>\n",
              "      <th>out_dim</th>\n",
              "      <th>hid_dim</th>\n",
              "      <th>act</th>\n",
              "      <th>n_layer</th>\n",
              "      <th>dropout</th>\n",
              "      <th>use_bn</th>\n",
              "      <th>l2</th>\n",
              "      <th>use_xavier</th>\n",
              "      <th>optim</th>\n",
              "      <th>train_batch_size</th>\n",
              "      <th>lr</th>\n",
              "    </tr>\n",
              "  </thead>\n",
              "  <tbody>\n",
              "    <tr>\n",
              "      <th>0</th>\n",
              "      <td>[1.7476278095488336, 1.5469783218043625, 1.452...</td>\n",
              "      <td>[1.6228731393814086, 1.5178907990455628, 1.476...</td>\n",
              "      <td>[38.1375, 45.295, 48.905, 51.1425, 53.145, 55....</td>\n",
              "      <td>[43.32, 46.69, 48.05, 48.54, 45.96, 50.57, 50....</td>\n",
              "      <td>80.1950</td>\n",
              "      <td>50.74</td>\n",
              "      <td>51.22</td>\n",
              "      <td>exp2_lr_epoch</td>\n",
              "      <td>3072</td>\n",
              "      <td>10</td>\n",
              "      <td>300</td>\n",
              "      <td>relu</td>\n",
              "      <td>3</td>\n",
              "      <td>0.2</td>\n",
              "      <td>True</td>\n",
              "      <td>0.00001</td>\n",
              "      <td>True</td>\n",
              "      <td>RMSprop</td>\n",
              "      <td>256</td>\n",
              "      <td>0.00010</td>\n",
              "    </tr>\n",
              "    <tr>\n",
              "      <th>1</th>\n",
              "      <td>[1.7429370599187863, 1.4983966995956033, 1.392...</td>\n",
              "      <td>[1.627475345134735, 1.5329326152801515, 1.5914...</td>\n",
              "      <td>[37.7525, 46.57, 50.1625, 52.995, 55.81, 57.54...</td>\n",
              "      <td>[40.81, 45.46, 44.23, 47.66, 45.64, 49.79, 49....</td>\n",
              "      <td>85.6250</td>\n",
              "      <td>50.28</td>\n",
              "      <td>50.69</td>\n",
              "      <td>exp2_lr_epoch</td>\n",
              "      <td>3072</td>\n",
              "      <td>10</td>\n",
              "      <td>300</td>\n",
              "      <td>relu</td>\n",
              "      <td>3</td>\n",
              "      <td>0.2</td>\n",
              "      <td>True</td>\n",
              "      <td>0.00001</td>\n",
              "      <td>True</td>\n",
              "      <td>RMSprop</td>\n",
              "      <td>256</td>\n",
              "      <td>0.00100</td>\n",
              "    </tr>\n",
              "    <tr>\n",
              "      <th>2</th>\n",
              "      <td>[1.8163189857628694, 1.6098802363037303, 1.521...</td>\n",
              "      <td>[1.652669656276703, 1.5597757339477538, 1.5104...</td>\n",
              "      <td>[35.83, 43.8775, 46.92, 49.1475, 51.1125, 52.6...</td>\n",
              "      <td>[41.96, 45.27, 47.34, 48.06, 48.57, 50.07, 49....</td>\n",
              "      <td>75.8225</td>\n",
              "      <td>49.66</td>\n",
              "      <td>50.57</td>\n",
              "      <td>exp2_lr_epoch</td>\n",
              "      <td>3072</td>\n",
              "      <td>10</td>\n",
              "      <td>300</td>\n",
              "      <td>relu</td>\n",
              "      <td>3</td>\n",
              "      <td>0.2</td>\n",
              "      <td>True</td>\n",
              "      <td>0.00001</td>\n",
              "      <td>True</td>\n",
              "      <td>RMSprop</td>\n",
              "      <td>256</td>\n",
              "      <td>0.00005</td>\n",
              "    </tr>\n",
              "  </tbody>\n",
              "</table>\n",
              "</div>\n",
              "      <button class=\"colab-df-convert\" onclick=\"convertToInteractive('df-20702341-dd86-4919-918e-d2ec4e6ef24a')\"\n",
              "              title=\"Convert this dataframe to an interactive table.\"\n",
              "              style=\"display:none;\">\n",
              "        \n",
              "  <svg xmlns=\"http://www.w3.org/2000/svg\" height=\"24px\"viewBox=\"0 0 24 24\"\n",
              "       width=\"24px\">\n",
              "    <path d=\"M0 0h24v24H0V0z\" fill=\"none\"/>\n",
              "    <path d=\"M18.56 5.44l.94 2.06.94-2.06 2.06-.94-2.06-.94-.94-2.06-.94 2.06-2.06.94zm-11 1L8.5 8.5l.94-2.06 2.06-.94-2.06-.94L8.5 2.5l-.94 2.06-2.06.94zm10 10l.94 2.06.94-2.06 2.06-.94-2.06-.94-.94-2.06-.94 2.06-2.06.94z\"/><path d=\"M17.41 7.96l-1.37-1.37c-.4-.4-.92-.59-1.43-.59-.52 0-1.04.2-1.43.59L10.3 9.45l-7.72 7.72c-.78.78-.78 2.05 0 2.83L4 21.41c.39.39.9.59 1.41.59.51 0 1.02-.2 1.41-.59l7.78-7.78 2.81-2.81c.8-.78.8-2.07 0-2.86zM5.41 20L4 18.59l7.72-7.72 1.47 1.35L5.41 20z\"/>\n",
              "  </svg>\n",
              "      </button>\n",
              "      \n",
              "  <style>\n",
              "    .colab-df-container {\n",
              "      display:flex;\n",
              "      flex-wrap:wrap;\n",
              "      gap: 12px;\n",
              "    }\n",
              "\n",
              "    .colab-df-convert {\n",
              "      background-color: #E8F0FE;\n",
              "      border: none;\n",
              "      border-radius: 50%;\n",
              "      cursor: pointer;\n",
              "      display: none;\n",
              "      fill: #1967D2;\n",
              "      height: 32px;\n",
              "      padding: 0 0 0 0;\n",
              "      width: 32px;\n",
              "    }\n",
              "\n",
              "    .colab-df-convert:hover {\n",
              "      background-color: #E2EBFA;\n",
              "      box-shadow: 0px 1px 2px rgba(60, 64, 67, 0.3), 0px 1px 3px 1px rgba(60, 64, 67, 0.15);\n",
              "      fill: #174EA6;\n",
              "    }\n",
              "\n",
              "    [theme=dark] .colab-df-convert {\n",
              "      background-color: #3B4455;\n",
              "      fill: #D2E3FC;\n",
              "    }\n",
              "\n",
              "    [theme=dark] .colab-df-convert:hover {\n",
              "      background-color: #434B5C;\n",
              "      box-shadow: 0px 1px 3px 1px rgba(0, 0, 0, 0.15);\n",
              "      filter: drop-shadow(0px 1px 2px rgba(0, 0, 0, 0.3));\n",
              "      fill: #FFFFFF;\n",
              "    }\n",
              "  </style>\n",
              "\n",
              "      <script>\n",
              "        const buttonEl =\n",
              "          document.querySelector('#df-20702341-dd86-4919-918e-d2ec4e6ef24a button.colab-df-convert');\n",
              "        buttonEl.style.display =\n",
              "          google.colab.kernel.accessAllowed ? 'block' : 'none';\n",
              "\n",
              "        async function convertToInteractive(key) {\n",
              "          const element = document.querySelector('#df-20702341-dd86-4919-918e-d2ec4e6ef24a');\n",
              "          const dataTable =\n",
              "            await google.colab.kernel.invokeFunction('convertToInteractive',\n",
              "                                                     [key], {});\n",
              "          if (!dataTable) return;\n",
              "\n",
              "          const docLinkHtml = 'Like what you see? Visit the ' +\n",
              "            '<a target=\"_blank\" href=https://colab.research.google.com/notebooks/data_table.ipynb>data table notebook</a>'\n",
              "            + ' to learn more about interactive tables.';\n",
              "          element.innerHTML = '';\n",
              "          dataTable['output_type'] = 'display_data';\n",
              "          await google.colab.output.renderOutput(dataTable, element);\n",
              "          const docLink = document.createElement('div');\n",
              "          docLink.innerHTML = docLinkHtml;\n",
              "          element.appendChild(docLink);\n",
              "        }\n",
              "      </script>\n",
              "    </div>\n",
              "  </div>\n",
              "  "
            ],
            "text/plain": [
              "                                        train_losses  ...       lr\n",
              "0  [1.7476278095488336, 1.5469783218043625, 1.452...  ...  0.00010\n",
              "1  [1.7429370599187863, 1.4983966995956033, 1.392...  ...  0.00100\n",
              "2  [1.8163189857628694, 1.6098802363037303, 1.521...  ...  0.00005\n",
              "\n",
              "[3 rows x 20 columns]"
            ]
          },
          "metadata": {},
          "execution_count": 99
        }
      ]
    },
    {
      "cell_type": "code",
      "source": [
        "plot_loss_variation('lr','n_layer', df2, margin_titles = True)"
      ],
      "metadata": {
        "colab": {
          "base_uri": "https://localhost:8080/",
          "height": 232
        },
        "id": "8VABQ6xluNbI",
        "outputId": "86081c69-1726-41ed-f9af-6d3a8e0ce327"
      },
      "execution_count": 106,
      "outputs": [
        {
          "output_type": "display_data",
          "data": {
            "image/png": "[encoded data removed]",
            "text/plain": [
              "<Figure size 708.125x216 with 3 Axes>"
            ]
          },
          "metadata": {
            "needs_background": "light"
          }
        }
      ]
    },
    {
      "cell_type": "code",
      "source": [
        "plot_acc_variation('lr','n_layer', df2, margin_titles = True)"
      ],
      "metadata": {
        "colab": {
          "base_uri": "https://localhost:8080/",
          "height": 654
        },
        "id": "HSNTbbswx8aX",
        "outputId": "bec5a905-f40b-4748-e580-73f4a98b92b5"
      },
      "execution_count": 108,
      "outputs": [
        {
          "output_type": "display_data",
          "data": {
            "image/png": "[encoded data removed]",
            "text/plain": [
              "<Figure size 275.375x648 with 3 Axes>"
            ]
          },
          "metadata": {
            "needs_background": "light"
          }
        }
      ]
    },
    {
      "cell_type": "code",
      "source": [
        ""
      ],
      "metadata": {
        "id": "8Wm2qZRpy5lX"
      },
      "execution_count": null,
      "outputs": []
    }
  ]
}