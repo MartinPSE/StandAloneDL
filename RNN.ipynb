{
  "nbformat": 4,
  "nbformat_minor": 0,
  "metadata": {
    "colab": {
      "name": "RNN.ipynb",
      "provenance": [],
      "collapsed_sections": [
        "DmcgTVnpn6R6"
      ],
      "authorship_tag": "ABX9TyNaK4iHRiA/bYWLAOkKinKp",
      "include_colab_link": true
    },
    "kernelspec": {
      "name": "python3",
      "display_name": "Python 3"
    },
    "language_info": {
      "name": "python"
    }
  },
  "cells": [
    {
      "cell_type": "markdown",
      "metadata": {
        "id": "view-in-github",
        "colab_type": "text"
      },
      "source": [
        "<a href=\"https://colab.research.google.com/github/MartinPSE/StandAloneDL/blob/master/RNN.ipynb\" target=\"_parent\"><img src=\"https://colab.research.google.com/assets/colab-badge.svg\" alt=\"Open In Colab\"/></a>"
      ]
    },
    {
      "cell_type": "markdown",
      "source": [
        "## Types of Task Dealing with Sequentail Data\n",
        "---\n",
        "  1. one to one\n",
        "  2. one to many\n",
        "  3. many to one\n",
        "  4. many to many\n",
        "  5. many to many"
      ],
      "metadata": {
        "id": "DmcgTVnpn6R6"
      }
    },
    {
      "cell_type": "markdown",
      "source": [
        "### one to many\n",
        "---\n",
        "  Automatically generate caption with the given image"
      ],
      "metadata": {
        "id": "nAmAtOv9ovfe"
      }
    },
    {
      "cell_type": "markdown",
      "source": [
        "### many to one\n",
        "---\n",
        "  Predict whether a company would be bankrupted"
      ],
      "metadata": {
        "id": "yQNbBk3oozUG"
      }
    },
    {
      "cell_type": "markdown",
      "source": [
        "### many to many\n",
        "---\n",
        "  Translate one sentence into another language"
      ],
      "metadata": {
        "id": "yq9nLXn5o66u"
      }
    },
    {
      "cell_type": "markdown",
      "source": [
        "### many to many\n",
        "---\n",
        "  Classify whether the word is own's name or not\n"
      ],
      "metadata": {
        "id": "AormmWsOpB8m"
      }
    },
    {
      "cell_type": "markdown",
      "source": [
        "## Deep Learning Dealing with Sequential Data\n",
        "---\n",
        "  MLP ? Stack of fully connected layers <br>\n",
        "    <font color='pink'> Cannot handle a sequence with arbitrary length <br> For fixed length sequence, require lots of parameters</font><br>\n",
        "  CNN ? Stack of ( convolution + pooling + fully connected) layers <br>\n",
        "  <font color='pink'>Actually perform quite well on time series analysis</font>"
      ],
      "metadata": {
        "id": "CJouKLx4pcTR"
      }
    },
    {
      "cell_type": "markdown",
      "source": [
        "## RNN ( Recurrent Neural Network)\n",
        "---\n",
        "  Process both new inputs and model output of previous input!\n",
        "\n",
        "  How can we combine new input and previous input?"
      ],
      "metadata": {
        "id": "VCskLuSLpepm"
      }
    },
    {
      "cell_type": "markdown",
      "source": [
        "## Practice\n",
        "---"
      ],
      "metadata": {
        "id": "Gz2XCw-pvMA9"
      }
    },
    {
      "cell_type": "markdown",
      "source": [
        "### Generating Dataset"
      ],
      "metadata": {
        "id": "_QHYeD1j_XcP"
      }
    },
    {
      "cell_type": "code",
      "source": [
        "%matplotlib inline\n",
        "\n",
        "import numpy as np\n",
        "import matplotlib.pyplot as plt\n",
        "\n",
        "# ===== Generating Dataset =====\n",
        "num_data = 2400\n",
        "t = np.linspace(0.0, 100.0,num_data)\n",
        "y = np.sin(t) + np.sin(2*t) # + np.sin(0.4*t)\n",
        "e = np.random.normal(0, 0.1, num_data)\n",
        "y = y + e\n",
        "\n",
        "seq_len = 10\n",
        "X = []\n",
        "y_true = []\n",
        "for i in range(len(t)-seq_len):\n",
        "  X.append(y[i:i+seq_len])\n",
        "  y_true.append(y[i+seq_len])\n",
        "\n",
        "X = np.array(X)\n",
        "y_true = np.array(y_true)\n",
        "\n",
        "X = X.reshape(10,2390,1)\n",
        "# 10 , 2390, 1 \n",
        "# seq_len, batch_size, input_dim 순서로 input 값을 받는다."
      ],
      "metadata": {
        "id": "PhGC9bTP_WI8"
      },
      "execution_count": 1,
      "outputs": []
    },
    {
      "cell_type": "markdown",
      "source": [
        "### Model Architecuture\n",
        "---"
      ],
      "metadata": {
        "id": "ocy4KknX-W3Z"
      }
    },
    {
      "cell_type": "code",
      "source": [
        "import torch\n",
        "import torch.nn as nn\n",
        "\n",
        "class RNN(nn.Module):\n",
        "  def __init__(self, input_dim, output_dim, hid_dim, batch_size):\n",
        "    super(RNN, self).__init__()\n",
        "    # 변수 선언 \n",
        "    self.input_dim = input_dim\n",
        "    self.output_dim = output_dim\n",
        "    self.hid_dim = hid_dim\n",
        "    self.batch_size = batch_size\n",
        "\n",
        "    # Model Define\n",
        "    self.u = nn.Linear(self.input_dim, self.hid_dim, bias=False)\n",
        "    self.w = nn.Linear(self.hid_dim, self.hid_dim, bias=False)\n",
        "    self.v = nn.Linear(self.hid_dim, self.output_dim, bias=False)\n",
        "    self.act = nn.Tanh()\n",
        "\n",
        "    # batch_size 갯수만큼 초기화\n",
        "    self.hidden = self.init_hidden()\n",
        "\n",
        "  def init_hidden(self, batch_size= None):\n",
        "    if batch_size is None:\n",
        "      batch_size = self.batch_size\n",
        "    return torch.zeros(batch_size, self.hid_dim) # (1 x hid_dim) 차원 0 vector 생성\n",
        "\n",
        "  def forward(self, x):\n",
        "    h = self.act(self.u(x) + self.w(self.hidden)) # 자동으로 Element Sum\n",
        "    y = self.v(h)\n",
        "    self.hidden = h\n",
        "\n",
        "    return y, h\n"
      ],
      "metadata": {
        "id": "9wjenZD-_etb"
      },
      "execution_count": 2,
      "outputs": []
    },
    {
      "cell_type": "code",
      "source": [
        "import torch.optim as optim\n",
        "\n",
        "model = RNN(1, 1, 50, 2390)\n",
        "\n",
        "optimizer = optim.SGD(model.parameters(), lr = 0.005)\n",
        "criterion = nn.MSELoss()\n",
        "epoch  = 100\n",
        "\n",
        "# ===== Train ===== #\n",
        "# with torch.no_grad():\n",
        "\n",
        "for i in range(epoch):\n",
        "  model.train()\n",
        "  model.zero_grad()\n",
        "  optimizer.zero_grad()\n",
        "  model.hidden = model.init_hidden() #hidden_layer 또한 초기화를 해줘야한다.\n",
        "  \n",
        "\n",
        "  for x in X:\n",
        "    x = torch.Tensor(x).float()\n",
        "    y_true = torch.Tensor(y_true).float()\n",
        "\n",
        "    y_pred, hidden = model(x)\n",
        "    model.hidden = hidden\n",
        "\n",
        "  loss = criterion(y_pred.view(-1), y_true.view(-1))\n",
        "  loss.backward()\n",
        "  optimizer.step()\n",
        "print(round(loss.item(),4))\n",
        "\n"
      ],
      "metadata": {
        "id": "NU4oHRl2FTuQ",
        "colab": {
          "base_uri": "https://localhost:8080/"
        },
        "outputId": "6e1d4096-57f4-4f02-a8eb-f6d5bfe43667"
      },
      "execution_count": 4,
      "outputs": [
        {
          "output_type": "stream",
          "name": "stdout",
          "text": [
            "1.0138\n"
          ]
        }
      ]
    },
    {
      "cell_type": "code",
      "source": [
        "# ===== Evaluation ===== #\n",
        "X = X[:, 0, :]\n",
        "test_X = X.reshape(10, 1,1)\n",
        "print(test_X.shape)"
      ],
      "metadata": {
        "colab": {
          "base_uri": "https://localhost:8080/"
        },
        "id": "NYNzx6HtPta8",
        "outputId": "b54059bd-cf3b-4c38-e40b-b6ce16494ae0"
      },
      "execution_count": 5,
      "outputs": [
        {
          "output_type": "stream",
          "name": "stdout",
          "text": [
            "(10, 1, 1)\n"
          ]
        }
      ]
    },
    {
      "cell_type": "code",
      "source": [
        "model.eval()\n",
        "\n",
        "list_y_pred = []\n",
        "\n",
        "with torch.no_grad():\n",
        "  model.hidden = model.init_hidden(batch_size=1) # 요기서 맞춰주자!\n",
        "\n",
        "  for x in test_X:\n",
        "    x = torch.Tensor(x).float()\n",
        "    print(x)\n",
        "    y_pred, hidden = model(x)\n",
        "    model.hidden = hidden\n",
        "\n",
        "  for i in range(2390):\n",
        "\n",
        "    y_pred2, hidden = model(y_pred)\n",
        "    list_y_pred.append(y_pred2.view(-1).item())\n",
        "\n",
        "plt.plot(y)\n",
        "plt.plot(list(range(10,2400)),list_y_pred)\n",
        "plt.xlim(0,20)"
      ],
      "metadata": {
        "colab": {
          "base_uri": "https://localhost:8080/",
          "height": 465
        },
        "id": "4uzhvXY5LsGm",
        "outputId": "f2f33268-f040-4a45-dbf4-66c162e20b2f"
      },
      "execution_count": 9,
      "outputs": [
        {
          "output_type": "stream",
          "name": "stdout",
          "text": [
            "tensor([[-0.0161]])\n",
            "tensor([[0.4178]])\n",
            "tensor([[1.6320]])\n",
            "tensor([[-1.0092]])\n",
            "tensor([[-0.2287]])\n",
            "tensor([[-1.1143]])\n",
            "tensor([[0.1154]])\n",
            "tensor([[1.6405]])\n",
            "tensor([[-0.4101]])\n",
            "tensor([[1.0057]])\n"
          ]
        },
        {
          "output_type": "execute_result",
          "data": {
            "text/plain": [
              "(0.0, 20.0)"
            ]
          },
          "metadata": {},
          "execution_count": 9
        },
        {
          "output_type": "display_data",
          "data": {
            "image/png": "[encoded data removed]",
            "text/plain": [
              "<Figure size 432x288 with 1 Axes>"
            ]
          },
          "metadata": {
            "needs_background": "light"
          }
        }
      ]
    },
    {
      "cell_type": "code",
      "source": [
        "len(list_y_pred)"
      ],
      "metadata": {
        "colab": {
          "base_uri": "https://localhost:8080/"
        },
        "id": "PHacFX5v6qqk",
        "outputId": "17636888-9e5e-473f-8b25-8ec11093e191"
      },
      "execution_count": 8,
      "outputs": [
        {
          "output_type": "execute_result",
          "data": {
            "text/plain": [
              "2389"
            ]
          },
          "metadata": {},
          "execution_count": 8
        }
      ]
    },
    {
      "cell_type": "code",
      "source": [
        ""
      ],
      "metadata": {
        "id": "T4pd71b_Zd9C"
      },
      "execution_count": null,
      "outputs": []
    }
  ]
}