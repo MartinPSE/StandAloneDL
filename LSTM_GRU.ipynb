{
  "nbformat": 4,
  "nbformat_minor": 0,
  "metadata": {
    "colab": {
      "name": "LSTM_GRU.ipynb",
      "provenance": [],
      "collapsed_sections": [
        "zDrYqaSFAiKK"
      ],
      "authorship_tag": "ABX9TyMnd2gjbv7Vfkif4VKN0NqN",
      "include_colab_link": true
    },
    "kernelspec": {
      "name": "python3",
      "display_name": "Python 3"
    },
    "language_info": {
      "name": "python"
    }
  },
  "cells": [
    {
      "cell_type": "markdown",
      "metadata": {
        "id": "view-in-github",
        "colab_type": "text"
      },
      "source": [
        "<a href=\"https://colab.research.google.com/github/MartinPSE/StandAloneDL/blob/master/LSTM_GRU.ipynb\" target=\"_parent\"><img src=\"https://colab.research.google.com/assets/colab-badge.svg\" alt=\"Open In Colab\"/></a>"
      ]
    },
    {
      "cell_type": "markdown",
      "source": [
        "## LSTM ( Long Short Term Memory Network )\n",
        "---\n"
      ],
      "metadata": {
        "id": "zDrYqaSFAiKK"
      }
    },
    {
      "cell_type": "markdown",
      "source": [
        "\n",
        "$$C_{t-1} 에서 \\,불필요한\\, 정보를 \\,지운다. $$\n",
        "$$ f_t = 𝛔 ( W_f ⋅ [h_{t-1}, x_t] + b_f)$$"
      ],
      "metadata": {
        "id": "omAt8-PqKH__"
      }
    },
    {
      "cell_type": "markdown",
      "source": [
        "$$ C_{t-1}에 \\,새로운 \\,인풋\\, x_t와\\, h_{t-1}를\\, 보고 \\,중요한 \\,정보를 \\,넣는다. $$\n",
        "$$ i_t = 𝛔 ( W_i ⋅ [h_{t-1}, x_t] + b_i) $$\n",
        "$$ \\tilde C_t = tanh(W_C ⋅ [h_{t-1}, x_t] + b_C) $$"
      ],
      "metadata": {
        "id": "_4YWawGqSjuk"
      }
    },
    {
      "cell_type": "markdown",
      "source": [
        "$$ 3가지를 \\,다 \\,결합한다.$$\n",
        "$$ C_t = f_t * C_{t-1} + i_t * \\tilde C_t$$\n",
        "\n",
        "$$ C_t만들고,\\, f_t를 \\,이용해서 \\,C_{t-1}의\\, 일부\\, 정보를\\, 날리고\\, 임시 \\,C_t 정보를\\, 추가한다.$$"
      ],
      "metadata": {
        "id": "fAP0MUjzTWey"
      }
    },
    {
      "cell_type": "markdown",
      "source": [
        "$$ C_t\\, 적절히\\, 가공해 \\, 해당\\, t에서의\\, H_t를 \\, 만든다.$$\n",
        "$$ C_t를 \\, 가공할 \\, output \\, gate \\, o_t를 \\, 바탕으로 \\, h_t를 \\,계산$$\n",
        "\n",
        "$$ o_t = 𝛔 ( W_o [ h_{t-1}, x_t] + b_o ) $$\n",
        "$$ h_t = o_t * tanh(C_t)$$"
      ],
      "metadata": {
        "id": "TtujvT6rTxqL"
      }
    },
    {
      "cell_type": "markdown",
      "source": [
        "$$C_t와 \\, h_t를 \\, 다음\\, 스텝 \\, t+1로 \\, 전달한다.$$\n",
        "\n",
        "---"
      ],
      "metadata": {
        "id": "pUpR_jrWXFbz"
      }
    },
    {
      "cell_type": "markdown",
      "source": [
        "## Gated Recurrent Unit(GRU)"
      ],
      "metadata": {
        "id": "uHkts1WJXnfK"
      }
    },
    {
      "cell_type": "markdown",
      "source": [
        "$$ 1.\\,Reset\\,gate를 \\, 계산해서 \\,임시 \\,h_t를 \\,만든다.$$\n",
        "\n",
        "$$ ℽ _t = 𝛔(W_r ⋅[h_{t-1}, x_t])$$\n",
        "$$ \\tilde  h_t = tanh(W ⋅ [ℽ_t * h_{t-1}, x_t])$$"
      ],
      "metadata": {
        "id": "f7jrhJAsdLf3"
      }
    },
    {
      "cell_type": "markdown",
      "source": [
        "$$ 2.\\, Update \\, gate를 \\,통해 h_{t-1}과 \\,h_t간의 \\,비중을 \\,결정한다.\\,$$\n",
        "$$ z_t = 𝛔(W_z⋅[h_{t-1},x_t])$$"
      ],
      "metadata": {
        "id": "XpTcDKx7d0YY"
      }
    },
    {
      "cell_type": "markdown",
      "source": [
        "$$3. \\,z_t를 \\, 이용해 \\, 최종 \\,h_t를 \\,계산한다.$$\n",
        "$$ h_t = (1-z_t) * h_{t-1} + z_t * \\tilde h_t$$"
      ],
      "metadata": {
        "id": "MFf4-apQeN1J"
      }
    },
    {
      "cell_type": "code",
      "source": [
        ""
      ],
      "metadata": {
        "id": "xlIXIAKbea1g"
      },
      "execution_count": null,
      "outputs": []
    }
  ]
}